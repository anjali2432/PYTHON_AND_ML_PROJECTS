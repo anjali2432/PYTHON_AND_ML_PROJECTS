{
 "cells": [
  {
   "cell_type": "markdown",
   "metadata": {},
   "source": [
    "# Importing Libraries"
   ]
  },
  {
   "cell_type": "code",
   "execution_count": 5,
   "metadata": {},
   "outputs": [],
   "source": [
    "import cv2\n",
    "import numpy as np"
   ]
  },
  {
   "cell_type": "markdown",
   "metadata": {},
   "source": [
    "## Tracking Blue Objects"
   ]
  },
  {
   "cell_type": "markdown",
   "metadata": {},
   "source": [
    "### HSV Value For Blue"
   ]
  },
  {
   "cell_type": "code",
   "execution_count": 2,
   "metadata": {},
   "outputs": [
    {
     "name": "stdout",
     "output_type": "stream",
     "text": [
      "[[[120 255 255]]]\n"
     ]
    }
   ],
   "source": [
    "col=np.uint8([[[255,0,0]]])\n",
    "col_hsv=cv2.cvtColor(col,cv2.COLOR_BGR2HSV)\n",
    "print(col_hsv)"
   ]
  },
  {
   "cell_type": "markdown",
   "metadata": {},
   "source": [
    "### Defining Upper and Lower Range of Blue"
   ]
  },
  {
   "cell_type": "code",
   "execution_count": 3,
   "metadata": {},
   "outputs": [],
   "source": [
    "# define range of blue color in HSV (got approximate values from above cell and tweaked them)\n",
    "col_upper=np.array([130, 255, 255])\n",
    "col_lower=np.array([90, 140, 10])"
   ]
  },
  {
   "cell_type": "markdown",
   "metadata": {},
   "source": [
    "### Tracking"
   ]
  },
  {
   "cell_type": "code",
   "execution_count": 6,
   "metadata": {},
   "outputs": [],
   "source": [
    "cap = cv2.VideoCapture(0)  # opening camera device\n",
    "\n",
    "while(1):\n",
    "    # Take each frame\n",
    "    ret, frame = cap.read()\n",
    "    # Convert BGR to HSV\n",
    "    hsv_frame = cv2.cvtColor(frame, cv2.COLOR_BGR2HSV)\n",
    "    # Threshold the HSV image to get only green colors\n",
    "    mask = cv2.inRange(hsv_frame, col_lower, col_upper)\n",
    "    # Bitwise-AND mask and original image\n",
    "    track = cv2.bitwise_and(frame,frame,mask= mask)\n",
    "    # Displaying Windows\n",
    "    cv2.imshow('Frame',frame)\n",
    "    cv2.imshow('Mask',mask)\n",
    "    cv2.imshow('Tracking',track)\n",
    "    \n",
    "    if(cv2.waitKey(5) & 0xFF)==ord(\"x\"):\n",
    "        break\n",
    "cap.release()\n",
    "cv2.destroyAllWindows()"
   ]
  },
  {
   "cell_type": "markdown",
   "metadata": {},
   "source": [
    "## Tracking Red Objects"
   ]
  },
  {
   "cell_type": "markdown",
   "metadata": {},
   "source": [
    "### HSV Value for Red"
   ]
  },
  {
   "cell_type": "code",
   "execution_count": 14,
   "metadata": {},
   "outputs": [
    {
     "name": "stdout",
     "output_type": "stream",
     "text": [
      "[[[  0 255 255]]]\n"
     ]
    }
   ],
   "source": [
    "red=np.uint8([[[0,0,255]]])\n",
    "r_hsv=cv2.cvtColor(red,cv2.COLOR_BGR2HSV)\n",
    "print(r_hsv)"
   ]
  },
  {
   "cell_type": "markdown",
   "metadata": {},
   "source": [
    "### Defining Upper and Lower Range of Blue"
   ]
  },
  {
   "cell_type": "code",
   "execution_count": 15,
   "metadata": {},
   "outputs": [],
   "source": [
    "# define range of red color in HSV (got approximate values from above cell and tweaked them)\n",
    "red_upper=np.array([30, 190, 200])\n",
    "red_lower=np.array([0, 80, 70])"
   ]
  },
  {
   "cell_type": "markdown",
   "metadata": {},
   "source": [
    "### Tracking"
   ]
  },
  {
   "cell_type": "code",
   "execution_count": 16,
   "metadata": {},
   "outputs": [],
   "source": [
    "cap = cv2.VideoCapture(0)\n",
    "\n",
    "while(1):\n",
    "    # Take each frame\n",
    "    ret, frame = cap.read()\n",
    "    # Convert BGR to HSV\n",
    "    hsv = cv2.cvtColor(frame, cv2.COLOR_BGR2HSV)\n",
    "    # Threshold the HSV image to get only red colors\n",
    "    mask = cv2.inRange(hsv, red_lower, red_upper)\n",
    "    # Bitwise-AND mask and original image\n",
    "    track = cv2.bitwise_and(frame,frame, mask=mask)\n",
    "    # Displaying Frames\n",
    "    cv2.imshow('Frame',frame)\n",
    "    cv2.imshow('Mask',mask)\n",
    "    cv2.imshow('Tracking',track)\n",
    "    \n",
    "    if(cv2.waitKey(5) & 0xFF)==ord(\"x\"):\n",
    "        break\n",
    "cap.release()\n",
    "cv2.destroyAllWindows()"
   ]
  },
  {
   "cell_type": "code",
   "execution_count": null,
   "metadata": {},
   "outputs": [],
   "source": []
  }
 ],
 "metadata": {
  "kernelspec": {
   "display_name": "Python 3",
   "language": "python",
   "name": "python3"
  },
  "language_info": {
   "codemirror_mode": {
    "name": "ipython",
    "version": 3
   },
   "file_extension": ".py",
   "mimetype": "text/x-python",
   "name": "python",
   "nbconvert_exporter": "python",
   "pygments_lexer": "ipython3",
   "version": "3.7.6"
  }
 },
 "nbformat": 4,
 "nbformat_minor": 4
}
